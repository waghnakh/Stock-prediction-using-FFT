import matplotlib.pyplot as plt
%matplotlib inline
import numpy as np
import pandas as pd
