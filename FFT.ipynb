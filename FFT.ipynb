import matplotlib.pyplot as plt
%matplotlib inline
import numpy as np
import pandas as pd

df_original = pd.read_csv('/Users/aakash/Downloads/AAPL-2.csv')
df_original.index = df_original.Date
df_original.head()
